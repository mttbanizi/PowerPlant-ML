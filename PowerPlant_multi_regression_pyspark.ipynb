{
  "nbformat": 4,
  "nbformat_minor": 0,
  "metadata": {
    "colab": {
      "provenance": [],
      "authorship_tag": "ABX9TyMqDDDY4HclnI3tFt8Srgpx",
      "include_colab_link": true
    },
    "kernelspec": {
      "name": "python3",
      "display_name": "Python 3"
    },
    "language_info": {
      "name": "python"
    }
  },
  "cells": [
    {
      "cell_type": "markdown",
      "metadata": {
        "id": "view-in-github",
        "colab_type": "text"
      },
      "source": [
        "<a href=\"https://colab.research.google.com/github/mttbanizi/PowerPlant-ML/blob/main/PowerPlant_multi_regression_pyspark.ipynb\" target=\"_parent\"><img src=\"https://colab.research.google.com/assets/colab-badge.svg\" alt=\"Open In Colab\"/></a>"
      ]
    },
    {
      "cell_type": "code",
      "execution_count": 1,
      "metadata": {
        "colab": {
          "base_uri": "https://localhost:8080/"
        },
        "id": "gSz7nm6AVmps",
        "outputId": "60cc3d05-34a8-43a5-98be-dffc52a08fef"
      },
      "outputs": [
        {
          "output_type": "stream",
          "name": "stdout",
          "text": [
            "Collecting pyspark\n",
            "  Downloading pyspark-3.4.1.tar.gz (310.8 MB)\n",
            "\u001b[2K     \u001b[90m━━━━━━━━━━━━━━━━━━━━━━━━━━━━━━━━━━━━━━━\u001b[0m \u001b[32m310.8/310.8 MB\u001b[0m \u001b[31m4.5 MB/s\u001b[0m eta \u001b[36m0:00:00\u001b[0m\n",
            "\u001b[?25h  Preparing metadata (setup.py) ... \u001b[?25l\u001b[?25hdone\n",
            "Requirement already satisfied: py4j==0.10.9.7 in /usr/local/lib/python3.10/dist-packages (from pyspark) (0.10.9.7)\n",
            "Building wheels for collected packages: pyspark\n",
            "  Building wheel for pyspark (setup.py) ... \u001b[?25l\u001b[?25hdone\n",
            "  Created wheel for pyspark: filename=pyspark-3.4.1-py2.py3-none-any.whl size=311285387 sha256=527c872d57347666cc18b484be62b1a0e5403a1e27e3423103fd37b26e6631ef\n",
            "  Stored in directory: /root/.cache/pip/wheels/0d/77/a3/ff2f74cc9ab41f8f594dabf0579c2a7c6de920d584206e0834\n",
            "Successfully built pyspark\n",
            "Installing collected packages: pyspark\n",
            "Successfully installed pyspark-3.4.1\n"
          ]
        }
      ],
      "source": [
        "pip install pyspark\n"
      ]
    },
    {
      "cell_type": "code",
      "source": [
        "import pyspark\n",
        "from pyspark.sql import SparkSession\n",
        "spark=SparkSession.builder.appName('dataframe').getOrCreate()"
      ],
      "metadata": {
        "id": "oLnc5EwsV7T5"
      },
      "execution_count": 10,
      "outputs": []
    },
    {
      "cell_type": "code",
      "source": [
        "df= spark.read.csv(\"new_data\", header=True, inferSchema=True)"
      ],
      "metadata": {
        "id": "KSVrJ19rWTaF"
      },
      "execution_count": 12,
      "outputs": []
    },
    {
      "cell_type": "code",
      "source": [
        "df.show()"
      ],
      "metadata": {
        "colab": {
          "base_uri": "https://localhost:8080/"
        },
        "id": "cYE4xA_0XYrQ",
        "outputId": "f0a6de57-b10c-45e1-88e5-80372db6d673"
      },
      "execution_count": 13,
      "outputs": [
        {
          "output_type": "stream",
          "name": "stdout",
          "text": [
            "+---+--------+--------+--------+----------+------------------+-----------------+\n",
            "|_c0|    time|pressure|Steem MW|AmientTemp|              G_MW|             Flow|\n",
            "+---+--------+--------+--------+----------+------------------+-----------------+\n",
            "|  0|12 17:58| 364.315| 134.021|    35.901|           256.289|          626.694|\n",
            "|  1|12 18:58| 362.293| 134.215|      34.7|256.93399999999997|          557.287|\n",
            "|  2|12 16:58| 350.456| 134.935|    37.516|           255.058|          626.297|\n",
            "|  3|12 15:58| 354.372| 135.036|    37.297|           255.034|          635.316|\n",
            "|  4|12 19:58| 340.949| 135.883|    33.254|           258.033|626.0329999999999|\n",
            "|  5|12 13:58| 353.162| 136.982|    36.349|           252.471|          776.088|\n",
            "|  6|12 12:58| 350.716| 137.837|    35.653|           252.708|          778.697|\n",
            "|  7|12 14:58| 351.172|  139.17|    36.887|           254.875|          774.057|\n",
            "|  8|13 06:58| 214.926| 139.477|    28.271|           224.637|          860.056|\n",
            "|  9|12 20:58| 317.867|  140.26|     31.82|           259.627|          719.371|\n",
            "| 10|13 15:58| 368.036| 140.814|    35.498|           258.806|          863.453|\n",
            "| 11|13 14:58| 355.787| 141.678|    35.265|258.81899999999996|          860.757|\n",
            "| 12|12 11:58| 318.158| 141.781|    34.941|            253.24|          844.711|\n",
            "| 13|13 05:58| 225.313| 142.369|     27.49|           228.727|          858.559|\n",
            "| 14|13 16:58| 347.637| 142.401|    35.474|           259.599|          862.544|\n",
            "| 15|11 20:58| 310.272| 142.474|    32.017|           256.968|          833.126|\n",
            "| 16|13 18:58| 344.738| 142.723|    32.645|261.32099999999997|          860.691|\n",
            "| 17|13 13:58| 340.589| 142.739|    34.473|           258.971|          861.067|\n",
            "| 18|13 10:58| 328.704| 143.244|    32.063|260.69100000000003|          837.915|\n",
            "| 19|12 21:58|  309.53| 143.259|     30.98|261.20799999999997|          788.034|\n",
            "+---+--------+--------+--------+----------+------------------+-----------------+\n",
            "only showing top 20 rows\n",
            "\n"
          ]
        }
      ]
    },
    {
      "cell_type": "code",
      "source": [
        "df.printSchema()"
      ],
      "metadata": {
        "colab": {
          "base_uri": "https://localhost:8080/"
        },
        "id": "Yb4m9gkaXjSo",
        "outputId": "0c60b069-57a5-4321-b097-b4eee47ef3a8"
      },
      "execution_count": 14,
      "outputs": [
        {
          "output_type": "stream",
          "name": "stdout",
          "text": [
            "root\n",
            " |-- _c0: integer (nullable = true)\n",
            " |-- time: string (nullable = true)\n",
            " |-- pressure: double (nullable = true)\n",
            " |-- Steem MW: double (nullable = true)\n",
            " |-- AmientTemp: double (nullable = true)\n",
            " |-- G_MW: double (nullable = true)\n",
            " |-- Flow: double (nullable = true)\n",
            "\n"
          ]
        }
      ]
    },
    {
      "cell_type": "code",
      "source": [
        "from pyspark.ml.feature import VectorAssembler\n",
        "featureassembler=VectorAssembler(inputCols=['pressure','G_MW',\"AmientTemp\",\"Flow\"],\n",
        "                                 outputCol=\"Independent Feature\")\n",
        "output=featureassembler.transform(df)"
      ],
      "metadata": {
        "id": "DrIGa16IXt0o"
      },
      "execution_count": 15,
      "outputs": []
    },
    {
      "cell_type": "code",
      "source": [
        "output.select(\"Independent Feature\").show()"
      ],
      "metadata": {
        "colab": {
          "base_uri": "https://localhost:8080/"
        },
        "id": "wdfZQ7ssYVuD",
        "outputId": "caf560c1-5460-4f1d-9b34-df28fa23b514"
      },
      "execution_count": 16,
      "outputs": [
        {
          "output_type": "stream",
          "name": "stdout",
          "text": [
            "+--------------------+\n",
            "| Independent Feature|\n",
            "+--------------------+\n",
            "|[364.315,256.289,...|\n",
            "|[362.293,256.9339...|\n",
            "|[350.456,255.058,...|\n",
            "|[354.372,255.034,...|\n",
            "|[340.949,258.033,...|\n",
            "|[353.162,252.471,...|\n",
            "|[350.716,252.708,...|\n",
            "|[351.172,254.875,...|\n",
            "|[214.926,224.637,...|\n",
            "|[317.867,259.627,...|\n",
            "|[368.036,258.806,...|\n",
            "|[355.787,258.8189...|\n",
            "|[318.158,253.24,3...|\n",
            "|[225.313,228.727,...|\n",
            "|[347.637,259.599,...|\n",
            "|[310.272,256.968,...|\n",
            "|[344.738,261.3209...|\n",
            "|[340.589,258.971,...|\n",
            "|[328.704,260.6910...|\n",
            "|[309.53,261.20799...|\n",
            "+--------------------+\n",
            "only showing top 20 rows\n",
            "\n"
          ]
        }
      ]
    },
    {
      "cell_type": "code",
      "source": [
        "finalized_data=output.select(\"Independent Feature\", \"Steem MW\")"
      ],
      "metadata": {
        "id": "h15iCxtOYh-t"
      },
      "execution_count": 18,
      "outputs": []
    },
    {
      "cell_type": "code",
      "source": [
        "finalized_data.show()"
      ],
      "metadata": {
        "colab": {
          "base_uri": "https://localhost:8080/"
        },
        "id": "TOg5Ld3rYp10",
        "outputId": "06b33d0e-4a63-4244-910f-86ccc1f3186c"
      },
      "execution_count": 19,
      "outputs": [
        {
          "output_type": "stream",
          "name": "stdout",
          "text": [
            "+--------------------+--------+\n",
            "| Independent Feature|Steem MW|\n",
            "+--------------------+--------+\n",
            "|[364.315,256.289,...| 134.021|\n",
            "|[362.293,256.9339...| 134.215|\n",
            "|[350.456,255.058,...| 134.935|\n",
            "|[354.372,255.034,...| 135.036|\n",
            "|[340.949,258.033,...| 135.883|\n",
            "|[353.162,252.471,...| 136.982|\n",
            "|[350.716,252.708,...| 137.837|\n",
            "|[351.172,254.875,...|  139.17|\n",
            "|[214.926,224.637,...| 139.477|\n",
            "|[317.867,259.627,...|  140.26|\n",
            "|[368.036,258.806,...| 140.814|\n",
            "|[355.787,258.8189...| 141.678|\n",
            "|[318.158,253.24,3...| 141.781|\n",
            "|[225.313,228.727,...| 142.369|\n",
            "|[347.637,259.599,...| 142.401|\n",
            "|[310.272,256.968,...| 142.474|\n",
            "|[344.738,261.3209...| 142.723|\n",
            "|[340.589,258.971,...| 142.739|\n",
            "|[328.704,260.6910...| 143.244|\n",
            "|[309.53,261.20799...| 143.259|\n",
            "+--------------------+--------+\n",
            "only showing top 20 rows\n",
            "\n"
          ]
        }
      ]
    },
    {
      "cell_type": "code",
      "source": [
        "from pyspark.ml.regression import LinearRegression\n",
        "train_data, test_data=finalized_data.randomSplit([0.75,0.25])\n",
        "regressor=LinearRegression(featuresCol=\"Independent Feature\",labelCol=\"Steem MW\")\n",
        "regressor=regressor.fit(train_data)"
      ],
      "metadata": {
        "id": "DtEGKQpgYxWT"
      },
      "execution_count": 20,
      "outputs": []
    },
    {
      "cell_type": "code",
      "source": [
        "regressor.coefficients"
      ],
      "metadata": {
        "colab": {
          "base_uri": "https://localhost:8080/"
        },
        "id": "j9d6xqa1Y69p",
        "outputId": "bf5b4513-b69d-464b-e0fc-639d9907cdf8"
      },
      "execution_count": 21,
      "outputs": [
        {
          "output_type": "execute_result",
          "data": {
            "text/plain": [
              "DenseVector([-0.0881, 0.2752, 0.1041, 0.0252])"
            ]
          },
          "metadata": {},
          "execution_count": 21
        }
      ]
    },
    {
      "cell_type": "code",
      "source": [
        "pred_resaults=regressor.evaluate(test_data)"
      ],
      "metadata": {
        "id": "L-q-S0OrZLqI"
      },
      "execution_count": 22,
      "outputs": []
    },
    {
      "cell_type": "code",
      "source": [
        "pred_resaults.predictions.show()"
      ],
      "metadata": {
        "colab": {
          "base_uri": "https://localhost:8080/"
        },
        "id": "b7rTdCWkZRD5",
        "outputId": "bfed033e-eac2-4d0c-feca-df94e4aa1f8f"
      },
      "execution_count": 23,
      "outputs": [
        {
          "output_type": "stream",
          "name": "stdout",
          "text": [
            "+--------------------+--------+------------------+\n",
            "| Independent Feature|Steem MW|        prediction|\n",
            "+--------------------+--------+------------------+\n",
            "|[196.75,247.96499...| 150.464|151.00898555870657|\n",
            "|[205.62,247.32099...| 152.138|150.74681366402876|\n",
            "|[231.144,238.49,3...| 146.174|145.90764732102684|\n",
            "|[236.23,241.016,3...| 149.469|147.67252730460183|\n",
            "|[238.099,242.732,...| 149.276|147.68757070738394|\n",
            "|[241.234,243.177,...| 148.391|146.63957361623045|\n",
            "|[317.867,259.627,...|  140.26| 141.0679089297588|\n",
            "|[321.996,259.469,...| 143.917| 144.3517181221962|\n",
            "|[339.278,262.632,...| 143.261| 143.4313940833252|\n",
            "|[340.589,258.971,...| 142.739|142.72598702995862|\n",
            "|[340.949,258.033,...| 135.883|136.39740754553551|\n",
            "|[354.372,255.034,...| 135.036| 135.0440527187956|\n",
            "+--------------------+--------+------------------+\n",
            "\n"
          ]
        }
      ]
    },
    {
      "cell_type": "code",
      "source": [
        "test_data\n"
      ],
      "metadata": {
        "colab": {
          "base_uri": "https://localhost:8080/",
          "height": 313
        },
        "id": "udvLpWTVcoKB",
        "outputId": "e42ab5f2-2383-45a9-e1c5-d982edaaa8fa"
      },
      "execution_count": 28,
      "outputs": [
        {
          "output_type": "error",
          "ename": "AttributeError",
          "evalue": "ignored",
          "traceback": [
            "\u001b[0;31m---------------------------------------------------------------------------\u001b[0m",
            "\u001b[0;31mAttributeError\u001b[0m                            Traceback (most recent call last)",
            "\u001b[0;32m<ipython-input-28-b5ede7b2780a>\u001b[0m in \u001b[0;36m<cell line: 1>\u001b[0;34m()\u001b[0m\n\u001b[0;32m----> 1\u001b[0;31m \u001b[0mtest_data\u001b[0m\u001b[0;34m.\u001b[0m\u001b[0mdtype\u001b[0m\u001b[0;34m\u001b[0m\u001b[0;34m\u001b[0m\u001b[0m\n\u001b[0m",
            "\u001b[0;32m/usr/local/lib/python3.10/dist-packages/pyspark/sql/dataframe.py\u001b[0m in \u001b[0;36m__getattr__\u001b[0;34m(self, name)\u001b[0m\n\u001b[1;32m   2975\u001b[0m         \"\"\"\n\u001b[1;32m   2976\u001b[0m         \u001b[0;32mif\u001b[0m \u001b[0mname\u001b[0m \u001b[0;32mnot\u001b[0m \u001b[0;32min\u001b[0m \u001b[0mself\u001b[0m\u001b[0;34m.\u001b[0m\u001b[0mcolumns\u001b[0m\u001b[0;34m:\u001b[0m\u001b[0;34m\u001b[0m\u001b[0;34m\u001b[0m\u001b[0m\n\u001b[0;32m-> 2977\u001b[0;31m             raise AttributeError(\n\u001b[0m\u001b[1;32m   2978\u001b[0m                 \u001b[0;34m\"'%s' object has no attribute '%s'\"\u001b[0m \u001b[0;34m%\u001b[0m \u001b[0;34m(\u001b[0m\u001b[0mself\u001b[0m\u001b[0;34m.\u001b[0m\u001b[0m__class__\u001b[0m\u001b[0;34m.\u001b[0m\u001b[0m__name__\u001b[0m\u001b[0;34m,\u001b[0m \u001b[0mname\u001b[0m\u001b[0;34m)\u001b[0m\u001b[0;34m\u001b[0m\u001b[0;34m\u001b[0m\u001b[0m\n\u001b[1;32m   2979\u001b[0m             )\n",
            "\u001b[0;31mAttributeError\u001b[0m: 'DataFrame' object has no attribute 'dtype'"
          ]
        }
      ]
    }
  ]
}