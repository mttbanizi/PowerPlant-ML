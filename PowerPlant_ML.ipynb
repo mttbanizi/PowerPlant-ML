{
  "nbformat": 4,
  "nbformat_minor": 0,
  "metadata": {
    "colab": {
      "provenance": [],
      "gpuType": "T4",
      "authorship_tag": "ABX9TyOOCY8hEFWG8ex+pUAt7Z+y",
      "include_colab_link": true
    },
    "kernelspec": {
      "name": "python3",
      "display_name": "Python 3"
    },
    "language_info": {
      "name": "python"
    },
    "accelerator": "GPU"
  },
  "cells": [
    {
      "cell_type": "markdown",
      "metadata": {
        "id": "view-in-github",
        "colab_type": "text"
      },
      "source": [
        "<a href=\"https://colab.research.google.com/github/mttbanizi/PowerPlant-ML/blob/main/PowerPlant_ML.ipynb\" target=\"_parent\"><img src=\"https://colab.research.google.com/assets/colab-badge.svg\" alt=\"Open In Colab\"/></a>"
      ]
    },
    {
      "cell_type": "markdown",
      "source": [
        "\n",
        "\n",
        "```\n",
        "https://rosenfelder.ai/multi-input-neural-network-pytorch/\n",
        "```\n",
        "\n"
      ],
      "metadata": {
        "id": "9Lzc_BDVzNrF"
      }
    },
    {
      "cell_type": "code",
      "source": [
        "pip install pytesseract"
      ],
      "metadata": {
        "colab": {
          "base_uri": "https://localhost:8080/"
        },
        "id": "bviYlSm7bLGh",
        "outputId": "e60d176a-5b82-4186-d3ef-ad0d46d85a15"
      },
      "execution_count": 1,
      "outputs": [
        {
          "output_type": "stream",
          "name": "stdout",
          "text": [
            "Collecting pytesseract\n",
            "  Downloading pytesseract-0.3.10-py3-none-any.whl (14 kB)\n",
            "Requirement already satisfied: packaging>=21.3 in /usr/local/lib/python3.10/dist-packages (from pytesseract) (23.1)\n",
            "Requirement already satisfied: Pillow>=8.0.0 in /usr/local/lib/python3.10/dist-packages (from pytesseract) (9.4.0)\n",
            "Installing collected packages: pytesseract\n",
            "Successfully installed pytesseract-0.3.10\n"
          ]
        }
      ]
    },
    {
      "cell_type": "code",
      "execution_count": 2,
      "metadata": {
        "id": "JuIm6eag0rvL"
      },
      "outputs": [],
      "source": [
        "import cv2\n",
        "import pytesseract\n",
        "import numpy as np"
      ]
    },
    {
      "cell_type": "code",
      "source": [
        "# image = cv2.imread('7.jpg')"
      ],
      "metadata": {
        "id": "fPpgl2IhZFBx"
      },
      "execution_count": 3,
      "outputs": []
    },
    {
      "cell_type": "code",
      "source": [
        "import pandas as pd\n",
        "\n",
        "# Read the CSV file into a pandas DataFrame\n",
        "csv_file_path = 'data.csv'  # Replace with the actual path to your CSV file\n",
        "data_frame = pd.read_csv(csv_file_path)\n",
        "\n",
        "# Now you can work with the pandas DataFrame 'data_frame'\n",
        "# For example, you can print the first few rows of the DataFrame:\n",
        "print(data_frame.head())"
      ],
      "metadata": {
        "colab": {
          "base_uri": "https://localhost:8080/"
        },
        "id": "ToZUoIQ8boyC",
        "outputId": "054bf604-1a0d-4f76-c04e-68574f4c2cb6"
      },
      "execution_count": 4,
      "outputs": [
        {
          "output_type": "stream",
          "name": "stdout",
          "text": [
            "   11 19:58  346.328  133.408  33.298  301.484  124.509  306.326  131.007\n",
            "0  11 20:58  310.272  142.474  32.017  396.497  125.188  436.629  131.780\n",
            "1  11 21:58  305.023  143.402  31.036  399.970  125.666  439.996  132.644\n",
            "2  11 22:58  246.803  145.404  30.811  399.976  117.174  439.991  123.214\n",
            "3  11 23:58  231.144  146.174  31.650  400.008  115.559  439.964  122.931\n",
            "4  12 00:58  220.564  147.361  30.994  399.911  116.726  439.964  124.278\n"
          ]
        }
      ]
    },
    {
      "cell_type": "code",
      "source": [
        "new_column_titles = ['time', 'pressure', 'Steem MW', 'AmientTemp', 'B1_Flow', 'G1_MW', 'B2_Flow', 'G2_MW']\n",
        "\n",
        "# Assign the new column titles to the DataFrame\n",
        "data_frame.columns = new_column_titles"
      ],
      "metadata": {
        "id": "PeF8bOo4dki4"
      },
      "execution_count": 5,
      "outputs": []
    },
    {
      "cell_type": "code",
      "source": [
        "print(data_frame.head())"
      ],
      "metadata": {
        "colab": {
          "base_uri": "https://localhost:8080/"
        },
        "id": "IcQy0lRrc5Kv",
        "outputId": "61ab9003-fbb0-48f3-ff39-aaffc89c4481"
      },
      "execution_count": 6,
      "outputs": [
        {
          "output_type": "stream",
          "name": "stdout",
          "text": [
            "       time  pressure  Steem MW  AmientTemp  B1_Flow    G1_MW  B2_Flow  \\\n",
            "0  11 20:58   310.272   142.474      32.017  396.497  125.188  436.629   \n",
            "1  11 21:58   305.023   143.402      31.036  399.970  125.666  439.996   \n",
            "2  11 22:58   246.803   145.404      30.811  399.976  117.174  439.991   \n",
            "3  11 23:58   231.144   146.174      31.650  400.008  115.559  439.964   \n",
            "4  12 00:58   220.564   147.361      30.994  399.911  116.726  439.964   \n",
            "\n",
            "     G2_MW  \n",
            "0  131.780  \n",
            "1  132.644  \n",
            "2  123.214  \n",
            "3  122.931  \n",
            "4  124.278  \n"
          ]
        }
      ]
    },
    {
      "cell_type": "code",
      "source": [
        "# data_frame['Flow'] = data_frame['B1_Flow'].astype(float) + data_frame['B2_Flow'].astype(float)\n",
        "data_frame['G_MW'] = data_frame['G1_MW'].astype(float) + data_frame['G2_MW'].astype(float)\n",
        "print(data_frame.head())"
      ],
      "metadata": {
        "colab": {
          "base_uri": "https://localhost:8080/"
        },
        "id": "-Whglxy5e49B",
        "outputId": "cd7af893-f5b3-4a32-d2de-3f3335e215fc"
      },
      "execution_count": 7,
      "outputs": [
        {
          "output_type": "stream",
          "name": "stdout",
          "text": [
            "       time  pressure  Steem MW  AmientTemp  B1_Flow    G1_MW  B2_Flow  \\\n",
            "0  11 20:58   310.272   142.474      32.017  396.497  125.188  436.629   \n",
            "1  11 21:58   305.023   143.402      31.036  399.970  125.666  439.996   \n",
            "2  11 22:58   246.803   145.404      30.811  399.976  117.174  439.991   \n",
            "3  11 23:58   231.144   146.174      31.650  400.008  115.559  439.964   \n",
            "4  12 00:58   220.564   147.361      30.994  399.911  116.726  439.964   \n",
            "\n",
            "     G2_MW     G_MW  \n",
            "0  131.780  256.968  \n",
            "1  132.644  258.310  \n",
            "2  123.214  240.388  \n",
            "3  122.931  238.490  \n",
            "4  124.278  241.004  \n"
          ]
        }
      ]
    },
    {
      "cell_type": "code",
      "source": [
        "# print(data_frame)"
      ],
      "metadata": {
        "id": "92mIBmXsqKyH"
      },
      "execution_count": 8,
      "outputs": []
    },
    {
      "cell_type": "code",
      "source": [
        "data_frame.at[37,'B1_Flow'] = 400"
      ],
      "metadata": {
        "id": "8ITBBLyfhD1D"
      },
      "execution_count": 9,
      "outputs": []
    },
    {
      "cell_type": "code",
      "source": [
        "# result = data_frame[data_frame['B1_Flow'].str.contains('r')]\n",
        "# print(result)"
      ],
      "metadata": {
        "id": "5CjA4UDPgkEZ"
      },
      "execution_count": 10,
      "outputs": []
    },
    {
      "cell_type": "code",
      "source": [
        "data_frame['Flow'] = data_frame['B1_Flow'].astype(float) + data_frame['B2_Flow'].astype(float)\n",
        "print(data_frame.head())"
      ],
      "metadata": {
        "colab": {
          "base_uri": "https://localhost:8080/"
        },
        "id": "P6c81P9CgNqR",
        "outputId": "e021e165-3363-4016-d49e-3937b9890ef0"
      },
      "execution_count": 11,
      "outputs": [
        {
          "output_type": "stream",
          "name": "stdout",
          "text": [
            "       time  pressure  Steem MW  AmientTemp  B1_Flow    G1_MW  B2_Flow  \\\n",
            "0  11 20:58   310.272   142.474      32.017  396.497  125.188  436.629   \n",
            "1  11 21:58   305.023   143.402      31.036  399.970  125.666  439.996   \n",
            "2  11 22:58   246.803   145.404      30.811  399.976  117.174  439.991   \n",
            "3  11 23:58   231.144   146.174      31.650  400.008  115.559  439.964   \n",
            "4  12 00:58   220.564   147.361      30.994  399.911  116.726  439.964   \n",
            "\n",
            "     G2_MW     G_MW     Flow  \n",
            "0  131.780  256.968  833.126  \n",
            "1  132.644  258.310  839.966  \n",
            "2  123.214  240.388  839.967  \n",
            "3  122.931  238.490  839.972  \n",
            "4  124.278  241.004  839.875  \n"
          ]
        }
      ]
    },
    {
      "cell_type": "code",
      "source": [
        "data_frame_Modified = data_frame.drop(columns=['B1_Flow','B2_Flow','G1_MW', 'G2_MW'])\n",
        "data_frame_Modified = data_frame_Modified.sort_values(by='Steem MW')"
      ],
      "metadata": {
        "id": "1vp76WrFhkO1"
      },
      "execution_count": 12,
      "outputs": []
    },
    {
      "cell_type": "code",
      "source": [
        "data_frame_Modified = data_frame_Modified.reset_index(drop=True)"
      ],
      "metadata": {
        "id": "7D46Rn8a25dm"
      },
      "execution_count": 67,
      "outputs": []
    },
    {
      "cell_type": "code",
      "source": [
        "print(data_frame_Modified)"
      ],
      "metadata": {
        "colab": {
          "base_uri": "https://localhost:8080/"
        },
        "id": "dOCDpEfWiNtf",
        "outputId": "8772f192-44a8-483e-e02a-42e20939cfb6"
      },
      "execution_count": 69,
      "outputs": [
        {
          "output_type": "stream",
          "name": "stdout",
          "text": [
            "        time  pressure  Steem MW  AmientTemp     G_MW     Flow\n",
            "0   12 17:58   364.315   134.021      35.901  256.289  626.694\n",
            "1   12 18:58   362.293   134.215      34.700  256.934  557.287\n",
            "2   12 16:58   350.456   134.935      37.516  255.058  626.297\n",
            "3   12 15:58   354.372   135.036      37.297  255.034  635.316\n",
            "4   12 19:58   340.949   135.883      33.254  258.033  626.033\n",
            "5   12 13:58   353.162   136.982      36.349  252.471  776.088\n",
            "6   12 12:58   350.716   137.837      35.653  252.708  778.697\n",
            "7   12 14:58   351.172   139.170      36.887  254.875  774.057\n",
            "8   13 06:58   214.926   139.477      28.271  224.637  860.056\n",
            "9   12 20:58   317.867   140.260      31.820  259.627  719.371\n",
            "10  13 15:58   368.036   140.814      35.498  258.806  863.453\n",
            "11  13 14:58   355.787   141.678      35.265  258.819  860.757\n",
            "12  12 11:58   318.158   141.781      34.941  253.240  844.711\n",
            "13  13 05:58   225.313   142.369      27.490  228.727  858.559\n",
            "14  13 16:58   347.637   142.401      35.474  259.599  862.544\n",
            "15  11 20:58   310.272   142.474      32.017  256.968  833.126\n",
            "16  13 18:58   344.738   142.723      32.645  261.321  860.691\n",
            "17  13 13:58   340.589   142.739      34.473  258.971  861.067\n",
            "18  13 10:58   328.704   143.244      32.063  260.691  837.915\n",
            "19  12 21:58   309.530   143.259      30.980  261.208  788.034\n",
            "20  13 19:58   339.278   143.261      31.121  262.632  858.343\n",
            "21  11 21:58   305.023   143.402      31.036  258.310  839.966\n",
            "22  13 17:58   329.201   143.764      33.853  260.040  861.642\n",
            "23  13 12:58   321.996   143.917      33.623  259.469  858.651\n",
            "24  13 11:58   314.033   143.975      33.042  260.183  830.228\n",
            "25  13 09:58   307.493   144.037      31.218  243.093  870.792\n",
            "26  12 10:58   296.827   144.174      35.850  253.725  867.691\n",
            "27  12 09:58   279.312   144.219      33.038  238.881  922.112\n",
            "28  13 08:58   287.263   144.221      30.264  239.468  885.155\n",
            "29  13 20:58   319.737   144.829      30.280  263.285  857.394\n",
            "30  11 22:58   246.803   145.404      30.811  240.388  839.967\n",
            "31  11 23:58   231.144   146.174      31.650  238.490  839.972\n",
            "32  12 22:58   257.095   146.290      31.230  246.584  819.705\n",
            "33  12 08:58   243.624   146.413      32.453  233.190  930.062\n",
            "34  12 07:58   239.880   147.191      32.833  235.733  930.011\n",
            "35  12 00:58   220.564   147.361      30.994  241.004  839.875\n",
            "36  12 01:58   222.142   147.563      30.120  242.032  840.044\n",
            "37  12 06:58   221.983   147.680      32.976  240.944  865.000\n",
            "38  13 07:58   241.234   148.391      29.982  243.177  860.040\n",
            "39  12 02:58   206.502   149.084      28.460  243.747  839.911\n",
            "40  13 00:58   238.099   149.276      31.324  242.732  890.039\n",
            "41  12 23:58   236.230   149.469      31.596  241.016  900.541\n",
            "42  13 21:58   259.899   149.525      30.156  265.022  839.695\n",
            "43  13 22:58   221.842   150.281      29.863  246.590  845.424\n",
            "44  12 03:58   196.750   150.464      26.505  247.965  839.966\n",
            "45  13 23:58   218.371   150.559      29.836  247.065  849.862\n",
            "46  13 02:58   222.636   150.643      28.907  246.385  862.788\n",
            "47  13 01:58   220.819   150.969      29.833  244.445  889.918\n",
            "48  12 05:58   189.785   151.004      27.540  247.174  840.019\n",
            "49  12 04:58   187.100   151.439      26.352  248.577  839.902\n",
            "50  13 04:58   210.308   152.010      27.535  249.395  859.888\n",
            "51  13 03:58   205.620   152.138      28.353  247.321  860.006\n"
          ]
        }
      ]
    },
    {
      "cell_type": "code",
      "source": [
        "import torch\n",
        "from torch import nn\n",
        "import matplotlib.pyplot as plt"
      ],
      "metadata": {
        "id": "O2JC_drhjqK4"
      },
      "execution_count": 70,
      "outputs": []
    },
    {
      "cell_type": "code",
      "source": [
        "X = data_frame_Modified['Flow'].values\n",
        "y = data_frame_Modified['Steem MW']\n"
      ],
      "metadata": {
        "id": "kLgGTa7YkTx-"
      },
      "execution_count": 71,
      "outputs": []
    },
    {
      "cell_type": "code",
      "source": [
        "# Create train/test split\n",
        "train_split = int(0.8 * len(X)) # 80% of data used for training set, 20% for testing\n",
        "X_train, y_train = X[:train_split], y[:train_split]\n",
        "X_test, y_test = X[train_split:], y[train_split:]\n",
        "\n",
        "len(X_train), len(y_train), len(X_test), len(y_test)"
      ],
      "metadata": {
        "colab": {
          "base_uri": "https://localhost:8080/"
        },
        "id": "btVRfaLEkPBX",
        "outputId": "1e0a4344-39f5-45b0-cfe7-fa7a90dc494d"
      },
      "execution_count": 72,
      "outputs": [
        {
          "output_type": "execute_result",
          "data": {
            "text/plain": [
              "(41, 41, 11, 11)"
            ]
          },
          "metadata": {},
          "execution_count": 72
        }
      ]
    },
    {
      "cell_type": "code",
      "source": [
        "def plot_predictions(train_data=X_train,\n",
        "                     train_labels=y_train,\n",
        "                     test_data=X_test,\n",
        "                     test_labels=y_test,\n",
        "                     predictions=None):\n",
        "  \"\"\"\n",
        "  Plots training data, test data and compares predictions.\n",
        "  \"\"\"\n",
        "  plt.figure(figsize=(10, 7))\n",
        "\n",
        "  # Plot training data in blue\n",
        "  plt.scatter(train_data, train_labels, c=\"b\", s=4, label=\"Training data\")\n",
        "\n",
        "  # Plot test data in green\n",
        "  plt.scatter(test_data, test_labels, c=\"g\", s=4, label=\"Testing data\")\n",
        "\n",
        "  if predictions is not None:\n",
        "    # Plot the predictions in red (predictions were made on the test data)\n",
        "    plt.scatter(test_data, predictions, c=\"r\", s=4, label=\"Predictions\")\n",
        "\n",
        "  # Show the legend\n",
        "  plt.legend(prop={\"size\": 14});"
      ],
      "metadata": {
        "id": "RUtzB8Orj2Yn"
      },
      "execution_count": 73,
      "outputs": []
    },
    {
      "cell_type": "code",
      "source": [
        "plot_predictions();"
      ],
      "metadata": {
        "id": "rTXcauSzkvGV",
        "colab": {
          "base_uri": "https://localhost:8080/",
          "height": 599
        },
        "outputId": "0ce56255-f6e7-4807-b5a9-ae020726c33e"
      },
      "execution_count": 74,
      "outputs": [
        {
          "output_type": "display_data",
          "data": {
            "text/plain": [
              "<Figure size 1000x700 with 1 Axes>"
            ],
            "image/png": "[encoded data removed]"
          },
          "metadata": {}
        }
      ]
    },
    {
      "cell_type": "code",
      "source": [
        "class PowerPredictionModel(nn.Module):\n",
        "    def __init__(self, input_dim):\n",
        "        super(PowerPredictionModel, self).__init__()\n",
        "        self.fc1 = nn.Linear(input_dim, 32)  # Input layer to hidden layer\n",
        "        self.fc2 = nn.Linear(32, 16)         # Hidden layer to another hidden layer\n",
        "        self.fc3 = nn.Linear(16, 1)\n",
        "                  # Final hidden layer to output\n",
        "\n",
        "    def forward(self, x):\n",
        "        x = torch.relu(self.fc1(x))\n",
        "        x = torch.relu(self.fc2(x))\n",
        "        x =self.fc3(x)\n",
        "        return x\n",
        "\n",
        "# Initialize the model\n",
        "input_dim = 1  # Number of input features\n",
        "model = PowerPredictionModel(input_dim)\n"
      ],
      "metadata": {
        "id": "EWb02V6XnIlh"
      },
      "execution_count": 75,
      "outputs": []
    },
    {
      "cell_type": "code",
      "source": [
        "import torch.optim as optim"
      ],
      "metadata": {
        "id": "EsWfJMn8nWhE"
      },
      "execution_count": 76,
      "outputs": []
    },
    {
      "cell_type": "code",
      "source": [
        "criterion = nn.MSELoss()  # Mean Squared Error loss\n",
        "optimizer = optim.Adam(model.parameters(), lr=0.001)\n"
      ],
      "metadata": {
        "id": "quGzdn5fnMXg"
      },
      "execution_count": 77,
      "outputs": []
    },
    {
      "cell_type": "code",
      "source": [
        "loss_fn = nn.BCEWithLogitsLoss()\n",
        "optimizer = torch.optim.SGD(model.parameters(), lr=0.1)"
      ],
      "metadata": {
        "id": "P2MMzINeDhyW"
      },
      "execution_count": 78,
      "outputs": []
    },
    {
      "cell_type": "code",
      "source": [
        "num_epochs = 100\n",
        "for epoch in range(num_epochs):\n",
        "    inputs = torch.tensor(X_train, dtype=torch.float32).unsqueeze(dim=1)\n",
        "    targets = torch.tensor(y_train, dtype=torch.float32).unsqueeze(dim=1)\n",
        "    input_dim = inputs.size(dim=0)\n",
        "    optimizer.zero_grad()\n",
        "    outputs = model(inputs)\n",
        "    loss = loss_fn(outputs, targets)\n",
        "    loss.backward()\n",
        "    optimizer.step()\n",
        "\n",
        "    print(f'Epoch [{epoch + 1}/{num_epochs}], Loss: {loss.item():.4f}')\n"
      ],
      "metadata": {
        "colab": {
          "base_uri": "https://localhost:8080/"
        },
        "id": "d2B3WtzdnaoS",
        "outputId": "11cda22d-4c1f-45d4-87c8-9be1bfd0e661"
      },
      "execution_count": 79,
      "outputs": [
        {
          "output_type": "stream",
          "name": "stdout",
          "text": [
            "Epoch [1/100], Loss: 7115.6904\n",
            "Epoch [2/100], Loss: -1251713591803904.0000\n",
            "Epoch [3/100], Loss: -inf\n",
            "Epoch [4/100], Loss: -inf\n",
            "Epoch [5/100], Loss: nan\n",
            "Epoch [6/100], Loss: nan\n",
            "Epoch [7/100], Loss: nan\n",
            "Epoch [8/100], Loss: nan\n",
            "Epoch [9/100], Loss: nan\n",
            "Epoch [10/100], Loss: nan\n",
            "Epoch [11/100], Loss: nan\n",
            "Epoch [12/100], Loss: nan\n",
            "Epoch [13/100], Loss: nan\n",
            "Epoch [14/100], Loss: nan\n",
            "Epoch [15/100], Loss: nan\n",
            "Epoch [16/100], Loss: nan\n",
            "Epoch [17/100], Loss: nan\n",
            "Epoch [18/100], Loss: nan\n",
            "Epoch [19/100], Loss: nan\n",
            "Epoch [20/100], Loss: nan\n",
            "Epoch [21/100], Loss: nan\n",
            "Epoch [22/100], Loss: nan\n",
            "Epoch [23/100], Loss: nan\n",
            "Epoch [24/100], Loss: nan\n",
            "Epoch [25/100], Loss: nan\n",
            "Epoch [26/100], Loss: nan\n",
            "Epoch [27/100], Loss: nan\n",
            "Epoch [28/100], Loss: nan\n",
            "Epoch [29/100], Loss: nan\n",
            "Epoch [30/100], Loss: nan\n",
            "Epoch [31/100], Loss: nan\n",
            "Epoch [32/100], Loss: nan\n",
            "Epoch [33/100], Loss: nan\n",
            "Epoch [34/100], Loss: nan\n",
            "Epoch [35/100], Loss: nan\n",
            "Epoch [36/100], Loss: nan\n",
            "Epoch [37/100], Loss: nan\n",
            "Epoch [38/100], Loss: nan\n",
            "Epoch [39/100], Loss: nan\n",
            "Epoch [40/100], Loss: nan\n",
            "Epoch [41/100], Loss: nan\n",
            "Epoch [42/100], Loss: nan\n",
            "Epoch [43/100], Loss: nan\n",
            "Epoch [44/100], Loss: nan\n",
            "Epoch [45/100], Loss: nan\n",
            "Epoch [46/100], Loss: nan\n",
            "Epoch [47/100], Loss: nan\n",
            "Epoch [48/100], Loss: nan\n",
            "Epoch [49/100], Loss: nan\n",
            "Epoch [50/100], Loss: nan\n",
            "Epoch [51/100], Loss: nan\n",
            "Epoch [52/100], Loss: nan\n",
            "Epoch [53/100], Loss: nan\n",
            "Epoch [54/100], Loss: nan\n",
            "Epoch [55/100], Loss: nan\n",
            "Epoch [56/100], Loss: nan\n",
            "Epoch [57/100], Loss: nan\n",
            "Epoch [58/100], Loss: nan\n",
            "Epoch [59/100], Loss: nan\n",
            "Epoch [60/100], Loss: nan\n",
            "Epoch [61/100], Loss: nan\n",
            "Epoch [62/100], Loss: nan\n",
            "Epoch [63/100], Loss: nan\n",
            "Epoch [64/100], Loss: nan\n",
            "Epoch [65/100], Loss: nan\n",
            "Epoch [66/100], Loss: nan\n",
            "Epoch [67/100], Loss: nan\n",
            "Epoch [68/100], Loss: nan\n",
            "Epoch [69/100], Loss: nan\n",
            "Epoch [70/100], Loss: nan\n",
            "Epoch [71/100], Loss: nan\n",
            "Epoch [72/100], Loss: nan\n",
            "Epoch [73/100], Loss: nan\n",
            "Epoch [74/100], Loss: nan\n",
            "Epoch [75/100], Loss: nan\n",
            "Epoch [76/100], Loss: nan\n",
            "Epoch [77/100], Loss: nan\n",
            "Epoch [78/100], Loss: nan\n",
            "Epoch [79/100], Loss: nan\n",
            "Epoch [80/100], Loss: nan\n",
            "Epoch [81/100], Loss: nan\n",
            "Epoch [82/100], Loss: nan\n",
            "Epoch [83/100], Loss: nan\n",
            "Epoch [84/100], Loss: nan\n",
            "Epoch [85/100], Loss: nan\n",
            "Epoch [86/100], Loss: nan\n",
            "Epoch [87/100], Loss: nan\n",
            "Epoch [88/100], Loss: nan\n",
            "Epoch [89/100], Loss: nan\n",
            "Epoch [90/100], Loss: nan\n",
            "Epoch [91/100], Loss: nan\n",
            "Epoch [92/100], Loss: nan\n",
            "Epoch [93/100], Loss: nan\n",
            "Epoch [94/100], Loss: nan\n",
            "Epoch [95/100], Loss: nan\n",
            "Epoch [96/100], Loss: nan\n",
            "Epoch [97/100], Loss: nan\n",
            "Epoch [98/100], Loss: nan\n",
            "Epoch [99/100], Loss: nan\n",
            "Epoch [100/100], Loss: nan\n"
          ]
        }
      ]
    },
    {
      "cell_type": "code",
      "source": [
        "model.eval()\n",
        "with torch.no_grad():\n",
        "    test_inputs = torch.tensor(X_test, dtype=torch.float32).unsqueeze(dim=1)\n",
        "    predictions = model(test_inputs)\n",
        "\n",
        "# Calculate the evaluation metrics (e.g., RMSE, MAE)\n",
        "from sklearn.metrics import mean_squared_error, mean_absolute_error\n",
        "\n",
        "mse = mean_squared_error(y_test, predictions.numpy())\n",
        "rmse = mse ** 0.5\n",
        "mae = mean_absolute_error(y_test, predictions.numpy())\n",
        "\n",
        "print(f'RMSE: {rmse:.4f}, MAE: {mae:.4f}')\n"
      ],
      "metadata": {
        "colab": {
          "base_uri": "https://localhost:8080/",
          "height": 429
        },
        "id": "PjyyPXuAnihs",
        "outputId": "7922d23b-fb4c-4d8a-c406-8ad7bccdbf12"
      },
      "execution_count": 80,
      "outputs": [
        {
          "output_type": "error",
          "ename": "ValueError",
          "evalue": "ignored",
          "traceback": [
            "\u001b[0;31m---------------------------------------------------------------------------\u001b[0m",
            "\u001b[0;31mValueError\u001b[0m                                Traceback (most recent call last)",
            "\u001b[0;32m<ipython-input-80-be00f418fe0f>\u001b[0m in \u001b[0;36m<cell line: 9>\u001b[0;34m()\u001b[0m\n\u001b[1;32m      7\u001b[0m \u001b[0;32mfrom\u001b[0m \u001b[0msklearn\u001b[0m\u001b[0;34m.\u001b[0m\u001b[0mmetrics\u001b[0m \u001b[0;32mimport\u001b[0m \u001b[0mmean_squared_error\u001b[0m\u001b[0;34m,\u001b[0m \u001b[0mmean_absolute_error\u001b[0m\u001b[0;34m\u001b[0m\u001b[0;34m\u001b[0m\u001b[0m\n\u001b[1;32m      8\u001b[0m \u001b[0;34m\u001b[0m\u001b[0m\n\u001b[0;32m----> 9\u001b[0;31m \u001b[0mmse\u001b[0m \u001b[0;34m=\u001b[0m \u001b[0mmean_squared_error\u001b[0m\u001b[0;34m(\u001b[0m\u001b[0my_test\u001b[0m\u001b[0;34m,\u001b[0m \u001b[0mpredictions\u001b[0m\u001b[0;34m.\u001b[0m\u001b[0mnumpy\u001b[0m\u001b[0;34m(\u001b[0m\u001b[0;34m)\u001b[0m\u001b[0;34m)\u001b[0m\u001b[0;34m\u001b[0m\u001b[0;34m\u001b[0m\u001b[0m\n\u001b[0m\u001b[1;32m     10\u001b[0m \u001b[0mrmse\u001b[0m \u001b[0;34m=\u001b[0m \u001b[0mmse\u001b[0m \u001b[0;34m**\u001b[0m \u001b[0;36m0.5\u001b[0m\u001b[0;34m\u001b[0m\u001b[0;34m\u001b[0m\u001b[0m\n\u001b[1;32m     11\u001b[0m \u001b[0mmae\u001b[0m \u001b[0;34m=\u001b[0m \u001b[0mmean_absolute_error\u001b[0m\u001b[0;34m(\u001b[0m\u001b[0my_test\u001b[0m\u001b[0;34m,\u001b[0m \u001b[0mpredictions\u001b[0m\u001b[0;34m.\u001b[0m\u001b[0mnumpy\u001b[0m\u001b[0;34m(\u001b[0m\u001b[0;34m)\u001b[0m\u001b[0;34m)\u001b[0m\u001b[0;34m\u001b[0m\u001b[0;34m\u001b[0m\u001b[0m\n",
            "\u001b[0;32m/usr/local/lib/python3.10/dist-packages/sklearn/metrics/_regression.py\u001b[0m in \u001b[0;36mmean_squared_error\u001b[0;34m(y_true, y_pred, sample_weight, multioutput, squared)\u001b[0m\n\u001b[1;32m    440\u001b[0m     \u001b[0;36m0.825\u001b[0m\u001b[0;34m...\u001b[0m\u001b[0;34m\u001b[0m\u001b[0;34m\u001b[0m\u001b[0m\n\u001b[1;32m    441\u001b[0m     \"\"\"\n\u001b[0;32m--> 442\u001b[0;31m     y_type, y_true, y_pred, multioutput = _check_reg_targets(\n\u001b[0m\u001b[1;32m    443\u001b[0m         \u001b[0my_true\u001b[0m\u001b[0;34m,\u001b[0m \u001b[0my_pred\u001b[0m\u001b[0;34m,\u001b[0m \u001b[0mmultioutput\u001b[0m\u001b[0;34m\u001b[0m\u001b[0;34m\u001b[0m\u001b[0m\n\u001b[1;32m    444\u001b[0m     )\n",
            "\u001b[0;32m/usr/local/lib/python3.10/dist-packages/sklearn/metrics/_regression.py\u001b[0m in \u001b[0;36m_check_reg_targets\u001b[0;34m(y_true, y_pred, multioutput, dtype)\u001b[0m\n\u001b[1;32m    100\u001b[0m     \u001b[0mcheck_consistent_length\u001b[0m\u001b[0;34m(\u001b[0m\u001b[0my_true\u001b[0m\u001b[0;34m,\u001b[0m \u001b[0my_pred\u001b[0m\u001b[0;34m)\u001b[0m\u001b[0;34m\u001b[0m\u001b[0;34m\u001b[0m\u001b[0m\n\u001b[1;32m    101\u001b[0m     \u001b[0my_true\u001b[0m \u001b[0;34m=\u001b[0m \u001b[0mcheck_array\u001b[0m\u001b[0;34m(\u001b[0m\u001b[0my_true\u001b[0m\u001b[0;34m,\u001b[0m \u001b[0mensure_2d\u001b[0m\u001b[0;34m=\u001b[0m\u001b[0;32mFalse\u001b[0m\u001b[0;34m,\u001b[0m \u001b[0mdtype\u001b[0m\u001b[0;34m=\u001b[0m\u001b[0mdtype\u001b[0m\u001b[0;34m)\u001b[0m\u001b[0;34m\u001b[0m\u001b[0;34m\u001b[0m\u001b[0m\n\u001b[0;32m--> 102\u001b[0;31m     \u001b[0my_pred\u001b[0m \u001b[0;34m=\u001b[0m \u001b[0mcheck_array\u001b[0m\u001b[0;34m(\u001b[0m\u001b[0my_pred\u001b[0m\u001b[0;34m,\u001b[0m \u001b[0mensure_2d\u001b[0m\u001b[0;34m=\u001b[0m\u001b[0;32mFalse\u001b[0m\u001b[0;34m,\u001b[0m \u001b[0mdtype\u001b[0m\u001b[0;34m=\u001b[0m\u001b[0mdtype\u001b[0m\u001b[0;34m)\u001b[0m\u001b[0;34m\u001b[0m\u001b[0;34m\u001b[0m\u001b[0m\n\u001b[0m\u001b[1;32m    103\u001b[0m \u001b[0;34m\u001b[0m\u001b[0m\n\u001b[1;32m    104\u001b[0m     \u001b[0;32mif\u001b[0m \u001b[0my_true\u001b[0m\u001b[0;34m.\u001b[0m\u001b[0mndim\u001b[0m \u001b[0;34m==\u001b[0m \u001b[0;36m1\u001b[0m\u001b[0;34m:\u001b[0m\u001b[0;34m\u001b[0m\u001b[0;34m\u001b[0m\u001b[0m\n",
            "\u001b[0;32m/usr/local/lib/python3.10/dist-packages/sklearn/utils/validation.py\u001b[0m in \u001b[0;36mcheck_array\u001b[0;34m(array, accept_sparse, accept_large_sparse, dtype, order, copy, force_all_finite, ensure_2d, allow_nd, ensure_min_samples, ensure_min_features, estimator, input_name)\u001b[0m\n\u001b[1;32m    919\u001b[0m \u001b[0;34m\u001b[0m\u001b[0m\n\u001b[1;32m    920\u001b[0m         \u001b[0;32mif\u001b[0m \u001b[0mforce_all_finite\u001b[0m\u001b[0;34m:\u001b[0m\u001b[0;34m\u001b[0m\u001b[0;34m\u001b[0m\u001b[0m\n\u001b[0;32m--> 921\u001b[0;31m             _assert_all_finite(\n\u001b[0m\u001b[1;32m    922\u001b[0m                 \u001b[0marray\u001b[0m\u001b[0;34m,\u001b[0m\u001b[0;34m\u001b[0m\u001b[0;34m\u001b[0m\u001b[0m\n\u001b[1;32m    923\u001b[0m                 \u001b[0minput_name\u001b[0m\u001b[0;34m=\u001b[0m\u001b[0minput_name\u001b[0m\u001b[0;34m,\u001b[0m\u001b[0;34m\u001b[0m\u001b[0;34m\u001b[0m\u001b[0m\n",
            "\u001b[0;32m/usr/local/lib/python3.10/dist-packages/sklearn/utils/validation.py\u001b[0m in \u001b[0;36m_assert_all_finite\u001b[0;34m(X, allow_nan, msg_dtype, estimator_name, input_name)\u001b[0m\n\u001b[1;32m    159\u001b[0m                 \u001b[0;34m\"#estimators-that-handle-nan-values\"\u001b[0m\u001b[0;34m\u001b[0m\u001b[0;34m\u001b[0m\u001b[0m\n\u001b[1;32m    160\u001b[0m             )\n\u001b[0;32m--> 161\u001b[0;31m         \u001b[0;32mraise\u001b[0m \u001b[0mValueError\u001b[0m\u001b[0;34m(\u001b[0m\u001b[0mmsg_err\u001b[0m\u001b[0;34m)\u001b[0m\u001b[0;34m\u001b[0m\u001b[0;34m\u001b[0m\u001b[0m\n\u001b[0m\u001b[1;32m    162\u001b[0m \u001b[0;34m\u001b[0m\u001b[0m\n\u001b[1;32m    163\u001b[0m \u001b[0;34m\u001b[0m\u001b[0m\n",
            "\u001b[0;31mValueError\u001b[0m: Input contains NaN."
          ]
        }
      ]
    },
    {
      "cell_type": "code",
      "source": [
        "# Setup device agnostic code\n",
        "device = \"cuda\" if torch.cuda.is_available() else \"cpu\"\n",
        "print(f\"Using device: {device}\")"
      ],
      "metadata": {
        "colab": {
          "base_uri": "https://localhost:8080/"
        },
        "id": "KLwRqiT5id5C",
        "outputId": "d880057a-ea55-4f62-8a40-b1fbaec961d6"
      },
      "execution_count": 82,
      "outputs": [
        {
          "output_type": "stream",
          "name": "stdout",
          "text": [
            "Using device: cpu\n"
          ]
        }
      ]
    },
    {
      "cell_type": "code",
      "source": [
        "X1 = data_frame_Modified[['pressure']].values\n",
        "X2 = data_frame_Modified['G_MW'].values\n",
        "X3 = data_frame_Modified['Flow'].values"
      ],
      "metadata": {
        "id": "voeoVC5UTUPm"
      },
      "execution_count": 83,
      "outputs": []
    },
    {
      "cell_type": "code",
      "source": [
        "train_split = int(0.8 * len(X)) # 80% of data used for training set, 20% for testing\n",
        "X1_train, X2_train, X3_train, y1_train = X1[:train_split], X2[:train_split], X3[:train_split], y[:train_split]\n",
        "X1_test, X2_test, X3_test, y1_test = X1[train_split:], X2[train_split:], X3[train_split:], y[train_split:]\n"
      ],
      "metadata": {
        "id": "Joi_wrD2T833"
      },
      "execution_count": 84,
      "outputs": []
    },
    {
      "cell_type": "code",
      "source": [
        "from torch import nn\n",
        "class CircleModelV2(nn.Module):\n",
        "    def __init__(self, input_dim):\n",
        "        super().__init__()\n",
        "        self.features = nn.Sequential(\n",
        "          nn.Linear(in_features=input_dim, out_features=10),\n",
        "          nn.Linear(in_features=10, out_features=10),\n",
        "          nn.Linear(in_features=10, out_features=1),\n",
        "          # nn.ReLU() # <- add in ReLU activation function\n",
        "          # Can also put sigmoid in the model\n",
        "          # This would mean you don't need to use it on the predictions\n",
        "          # self.sigmoid = nn.Sigmoid()\n",
        "        )\n",
        "\n",
        "    def forward(self, X1):\n",
        "      # Intersperse the ReLU activation function between layers\n",
        "      X1_feature = self.features(X1)\n",
        "      # X2_feature = self.features(X2)\n",
        "      # X3_feature = self.features(X3)\n",
        "      # return torch.cat((X1_feature, X2_feature, X3_feature), 1)\n",
        "      return X1_feature\n",
        "      #  return self.layer_3(self.relu(self.layer_2(self.relu(self.layer_1(x)))))\n",
        "\n",
        "model_3 = CircleModelV2(input_dim=1).to(device)\n",
        "print(model_3)\n",
        "model_3.state_dict()"
      ],
      "metadata": {
        "colab": {
          "base_uri": "https://localhost:8080/"
        },
        "id": "IlJf_IU_iEAV",
        "outputId": "297c7255-5e0c-4bb4-dae4-cb554cac6551"
      },
      "execution_count": 104,
      "outputs": [
        {
          "output_type": "stream",
          "name": "stdout",
          "text": [
            "CircleModelV2(\n",
            "  (features): Sequential(\n",
            "    (0): Linear(in_features=1, out_features=10, bias=True)\n",
            "    (1): Linear(in_features=10, out_features=10, bias=True)\n",
            "    (2): Linear(in_features=10, out_features=1, bias=True)\n",
            "  )\n",
            ")\n"
          ]
        },
        {
          "output_type": "execute_result",
          "data": {
            "text/plain": [
              "OrderedDict([('features.0.weight',\n",
              "              tensor([[-0.7341],\n",
              "                      [-0.1727],\n",
              "                      [ 0.2089],\n",
              "                      [ 0.5163],\n",
              "                      [ 0.8073],\n",
              "                      [ 0.9110],\n",
              "                      [-0.7929],\n",
              "                      [ 0.2517],\n",
              "                      [-0.4301],\n",
              "                      [-0.1096]])),\n",
              "             ('features.0.bias',\n",
              "              tensor([-0.7485,  0.9109, -0.7340,  0.5345,  0.3514,  0.3250, -0.5406,  0.9090,\n",
              "                       0.2198,  0.1286])),\n",
              "             ('features.1.weight',\n",
              "              tensor([[-0.2787,  0.1327, -0.0474, -0.1449,  0.2716,  0.0705, -0.1750, -0.1601,\n",
              "                       -0.0151,  0.1766],\n",
              "                      [-0.0808, -0.1804, -0.1083, -0.2362,  0.1128,  0.2448, -0.2977,  0.0734,\n",
              "                        0.1634,  0.0573],\n",
              "                      [-0.1126,  0.1651,  0.1662,  0.1182, -0.0556, -0.0837,  0.0338, -0.0559,\n",
              "                       -0.0942,  0.2021],\n",
              "                      [ 0.2718, -0.0313, -0.0708,  0.0046, -0.0189,  0.0760,  0.0886, -0.2872,\n",
              "                       -0.1167,  0.2663],\n",
              "                      [ 0.1232, -0.0157, -0.1907, -0.1935, -0.2833, -0.1031,  0.1068,  0.2016,\n",
              "                        0.1460, -0.2795],\n",
              "                      [-0.1902, -0.0499,  0.3059,  0.0457, -0.0819,  0.1308, -0.1204, -0.2047,\n",
              "                        0.2308, -0.1438],\n",
              "                      [-0.0634, -0.3146,  0.2116,  0.2396,  0.1152, -0.2205, -0.3121, -0.2568,\n",
              "                        0.2358,  0.1518],\n",
              "                      [ 0.2661,  0.1657,  0.0800, -0.0031, -0.2405, -0.2709, -0.2958,  0.1295,\n",
              "                       -0.1553, -0.0636],\n",
              "                      [-0.1820, -0.0576, -0.2226, -0.2066,  0.1049, -0.0940,  0.1952, -0.1014,\n",
              "                       -0.2320, -0.0558],\n",
              "                      [-0.1533, -0.0967, -0.3010,  0.1769, -0.2202,  0.1589,  0.1435,  0.2259,\n",
              "                       -0.2426,  0.2274]])),\n",
              "             ('features.1.bias',\n",
              "              tensor([-0.1495,  0.1173,  0.2970, -0.0446, -0.0024, -0.0728, -0.2640,  0.1518,\n",
              "                      -0.3139,  0.1963])),\n",
              "             ('features.2.weight',\n",
              "              tensor([[ 0.2366,  0.2991, -0.0746, -0.2598,  0.0711,  0.1747, -0.3147, -0.0718,\n",
              "                       -0.1896, -0.0277]])),\n",
              "             ('features.2.bias', tensor([-0.1557]))])"
            ]
          },
          "metadata": {},
          "execution_count": 104
        }
      ]
    },
    {
      "cell_type": "code",
      "source": [
        "import torch.optim as optim\n",
        "# Create loss function\n",
        "loss_fn = nn.L1Loss()\n",
        "\n",
        "# Create optimizer\n",
        "optimizer = torch.optim.SGD(params=model_3.parameters(), # optimize newly created model's parameters\n",
        "                            lr=0.01)"
      ],
      "metadata": {
        "id": "2VYiBFy9f8Xb"
      },
      "execution_count": 92,
      "outputs": []
    },
    {
      "cell_type": "code",
      "source": [
        "# Setup loss and optimizer\n",
        "loss_fn = nn.BCEWithLogitsLoss()\n",
        "optimizer = torch.optim.SGD(model_3.parameters(), lr=0.1)"
      ],
      "metadata": {
        "id": "EqqyyiBFifyE"
      },
      "execution_count": 87,
      "outputs": []
    },
    {
      "cell_type": "code",
      "source": [
        "# Calculate accuracy (a classification metric)\n",
        "def accuracy_fn(y_true, y_pred):\n",
        "    correct = torch.eq(y_true, y_pred).sum().item() # torch.eq() calculates where two tensors are equal\n",
        "    acc = (correct / len(y_pred)) * 100\n",
        "    return acc"
      ],
      "metadata": {
        "id": "fNLjI9fjYSCK"
      },
      "execution_count": 88,
      "outputs": []
    },
    {
      "cell_type": "code",
      "source": [
        "y_test = list(y_test)"
      ],
      "metadata": {
        "id": "0sFsUkKduKB-"
      },
      "execution_count": 89,
      "outputs": []
    },
    {
      "cell_type": "code",
      "source": [
        "X1_train, X1_test = torch.as_tensor(X1_train, dtype=torch.float32).to(device), torch.as_tensor(X1_test,  dtype=torch.float32).to(device)\n",
        "X2_train, X2_test = torch.as_tensor(X2_train, dtype=torch.float32).to(device), torch.as_tensor(X2_test, dtype=torch.float32).to(device)\n",
        "X3_train, X3_test = torch.as_tensor(X3_train).to(device), torch.as_tensor(X3_test).to(device)\n",
        "y_train, y_test = torch.as_tensor(y_train).to(device),  torch.as_tensor(y_test).to(device)\n"
      ],
      "metadata": {
        "id": "3xqWG9xAnBIS"
      },
      "execution_count": 101,
      "outputs": []
    },
    {
      "cell_type": "code",
      "source": [
        "# Fit the model\n",
        "torch.manual_seed(42)\n",
        "epochs = 100\n",
        "\n",
        "# Put all data on target device\n",
        "\n",
        "for epoch in range(epochs):\n",
        "    model_3.train()\n",
        "    # 1. Forward pass\n",
        "    # y_logits = model_3(X1_train, X2_train, X3_train)\n",
        "    input_dim = X1_train.size(dim=0)\n",
        "    y_logits = model_3(X1_train )\n",
        "    y_pred = torch.round(torch.sigmoid(y_logits)) # logits -> prediction probabilities -> prediction labels\n",
        "\n",
        "    # 2. Calculate loss and accuracy\n",
        "    loss = loss_fn(y_logits, y_train) # BCEWithLogitsLoss calculates loss using logits\n",
        "    acc = accuracy_fn(y_true=y_train,\n",
        "                      y_pred=y_pred)\n",
        "\n",
        "    # 3. Optimizer zero grad\n",
        "    optimizer.zero_grad()\n",
        "\n",
        "    # 4. Loss backward\n",
        "    loss.backward()\n",
        "\n",
        "    # 5. Optimizer step\n",
        "    optimizer.step()\n",
        "\n",
        "    ### Testing\n",
        "    model_3.eval()\n",
        "    with torch.inference_mode():\n",
        "      # 1. Forward pass\n",
        "      test_logits = model_3(X1_test).squeeze()\n",
        "      test_pred = torch.round(torch.sigmoid(test_logits)) # logits -> prediction probabilities -> prediction labels\n",
        "      # 2. Calcuate loss and accuracy\n",
        "      test_loss = loss_fn(test_logits, y_test)\n",
        "      test_acc = accuracy_fn(y_true=y_test,\n",
        "                             y_pred=test_pred)\n",
        "\n",
        "    # Print out what's happening\n",
        "    if epoch % 10 == 0:\n",
        "        print(f\"Epoch: {epoch} | Loss: {loss:.5f}, Accuracy: {acc:.2f}% | Test Loss: {test_loss:.5f}, Test Accuracy: {test_acc:.2f}%\")"
      ],
      "metadata": {
        "colab": {
          "base_uri": "https://localhost:8080/"
        },
        "id": "HcwyboYPiypk",
        "outputId": "864d2466-76ce-43dc-aa2f-0a75f31aa6fc"
      },
      "execution_count": 94,
      "outputs": [
        {
          "output_type": "stream",
          "name": "stderr",
          "text": [
            "/usr/local/lib/python3.10/dist-packages/torch/nn/modules/loss.py:101: UserWarning: Using a target size (torch.Size([41])) that is different to the input size (torch.Size([41, 1])). This will likely lead to incorrect results due to broadcasting. Please ensure they have the same size.\n",
            "  return F.l1_loss(input, target, reduction=self.reduction)\n"
          ]
        },
        {
          "output_type": "stream",
          "name": "stdout",
          "text": [
            "Epoch: 0 | Loss: 142.72985, Accuracy: 0.00% | Test Loss: 150.77281, Test Accuracy: 0.00%\n",
            "Epoch: 10 | Loss: 142.72985, Accuracy: 0.00% | Test Loss: 150.77281, Test Accuracy: 0.00%\n",
            "Epoch: 20 | Loss: 142.72985, Accuracy: 0.00% | Test Loss: 150.77281, Test Accuracy: 0.00%\n",
            "Epoch: 30 | Loss: 142.72985, Accuracy: 0.00% | Test Loss: 150.77281, Test Accuracy: 0.00%\n",
            "Epoch: 40 | Loss: 142.72985, Accuracy: 0.00% | Test Loss: 150.77281, Test Accuracy: 0.00%\n",
            "Epoch: 50 | Loss: 142.72985, Accuracy: 0.00% | Test Loss: 150.77281, Test Accuracy: 0.00%\n",
            "Epoch: 60 | Loss: 142.72985, Accuracy: 0.00% | Test Loss: 150.77281, Test Accuracy: 0.00%\n",
            "Epoch: 70 | Loss: 142.72985, Accuracy: 0.00% | Test Loss: 150.77281, Test Accuracy: 0.00%\n",
            "Epoch: 80 | Loss: 142.72985, Accuracy: 0.00% | Test Loss: 150.77281, Test Accuracy: 0.00%\n",
            "Epoch: 90 | Loss: 142.72985, Accuracy: 0.00% | Test Loss: 150.77281, Test Accuracy: 0.00%\n"
          ]
        }
      ]
    },
    {
      "cell_type": "code",
      "source": [
        "# Subclass nn.Module to make our model\n",
        "class LinearRegressionModelV2(nn.Module):\n",
        "    def __init__(self):\n",
        "        super().__init__()\n",
        "        # Use nn.Linear() for creating the model parameters\n",
        "        self.linear_layer = nn.Linear(in_features=1,\n",
        "                                      out_features=1)\n",
        "\n",
        "    # Define the forward computation (input data x flows through nn.Linear())\n",
        "    def forward(self, x: torch.Tensor) -> torch.Tensor:\n",
        "        return self.linear_layer(x)\n",
        "\n",
        "# Set the manual seed when creating the model (this isn't always need but is used for demonstrative purposes, try commenting it out and seeing what happens)\n",
        "torch.manual_seed(42)\n",
        "model_1 = LinearRegressionModelV2()\n",
        "model_1, model_1.state_dict()"
      ],
      "metadata": {
        "colab": {
          "base_uri": "https://localhost:8080/"
        },
        "id": "DjnPo_3s4VYh",
        "outputId": "f72a045a-f7c3-40d4-bb9b-d66f65116198"
      },
      "execution_count": 97,
      "outputs": [
        {
          "output_type": "execute_result",
          "data": {
            "text/plain": [
              "(LinearRegressionModelV2(\n",
              "   (linear_layer): Linear(in_features=1, out_features=1, bias=True)\n",
              " ),\n",
              " OrderedDict([('linear_layer.weight', tensor([[0.7645]])),\n",
              "              ('linear_layer.bias', tensor([0.8300]))]))"
            ]
          },
          "metadata": {},
          "execution_count": 97
        }
      ]
    },
    {
      "cell_type": "code",
      "source": [
        "X2_train = X2_train.unsqueeze(dim=1)\n",
        "X2_test = X2_test.unsqueeze(dim=1)"
      ],
      "metadata": {
        "id": "-cEnl1p57GDr"
      },
      "execution_count": 110,
      "outputs": []
    },
    {
      "cell_type": "code",
      "source": [
        "epochs = 1000\n",
        "for epoch in range(epochs):\n",
        "    ### Training\n",
        "    model_1.train() # train mode is on by default after construction\n",
        "\n",
        "    # 1. Forward pass\n",
        "    y_pred = model_1(X2_train)\n",
        "\n",
        "    # 2. Calculate loss\n",
        "    loss = loss_fn(y_pred, y_train)\n",
        "\n",
        "    # 3. Zero grad optimizer\n",
        "    optimizer.zero_grad()\n",
        "\n",
        "    # 4. Loss backward\n",
        "    loss.backward()\n",
        "\n",
        "    # 5. Step the optimizer\n",
        "    optimizer.step()\n",
        "\n",
        "    ### Testing\n",
        "    model_1.eval() # put the model in evaluation mode for testing (inference)\n",
        "    # 1. Forward pass\n",
        "    with torch.inference_mode():\n",
        "        test_pred = model_1(X2_test)\n",
        "\n",
        "        # 2. Calculate the loss\n",
        "        test_loss = loss_fn(test_pred, y_test)\n",
        "\n",
        "    if epoch % 100 == 0:\n",
        "        print(f\"Epoch: {epoch} | Train loss: {loss} | Test loss: {test_loss}\")"
      ],
      "metadata": {
        "colab": {
          "base_uri": "https://localhost:8080/"
        },
        "id": "jmVYayv24jHk",
        "outputId": "c4f65d75-37f1-43c7-e2f9-5c05fc520235"
      },
      "execution_count": 111,
      "outputs": [
        {
          "output_type": "stream",
          "name": "stderr",
          "text": [
            "/usr/local/lib/python3.10/dist-packages/torch/nn/modules/loss.py:101: UserWarning: Using a target size (torch.Size([41])) that is different to the input size (torch.Size([41, 1, 1])). This will likely lead to incorrect results due to broadcasting. Please ensure they have the same size.\n",
            "  return F.l1_loss(input, target, reduction=self.reduction)\n",
            "/usr/local/lib/python3.10/dist-packages/torch/nn/modules/loss.py:101: UserWarning: Using a target size (torch.Size([11])) that is different to the input size (torch.Size([11, 1])). This will likely lead to incorrect results due to broadcasting. Please ensure they have the same size.\n",
            "  return F.l1_loss(input, target, reduction=self.reduction)\n"
          ]
        },
        {
          "output_type": "stream",
          "name": "stdout",
          "text": [
            "Epoch: 0 | Train loss: 49.628666477110336 | Test loss: 505.3368835449219\n",
            "Epoch: 100 | Train loss: 49.628666477110336 | Test loss: 505.3368835449219\n",
            "Epoch: 200 | Train loss: 49.628666477110336 | Test loss: 505.3368835449219\n",
            "Epoch: 300 | Train loss: 49.628666477110336 | Test loss: 505.3368835449219\n",
            "Epoch: 400 | Train loss: 49.628666477110336 | Test loss: 505.3368835449219\n",
            "Epoch: 500 | Train loss: 49.628666477110336 | Test loss: 505.3368835449219\n",
            "Epoch: 600 | Train loss: 49.628666477110336 | Test loss: 505.3368835449219\n",
            "Epoch: 700 | Train loss: 49.628666477110336 | Test loss: 505.3368835449219\n",
            "Epoch: 800 | Train loss: 49.628666477110336 | Test loss: 505.3368835449219\n",
            "Epoch: 900 | Train loss: 49.628666477110336 | Test loss: 505.3368835449219\n"
          ]
        }
      ]
    }
  ]
}